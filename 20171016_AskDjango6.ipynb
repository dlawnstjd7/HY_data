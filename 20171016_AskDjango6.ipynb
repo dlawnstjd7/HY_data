{
 "cells": [
  {
   "cell_type": "code",
   "execution_count": 2,
   "metadata": {},
   "outputs": [],
   "source": [
    "import os\n",
    "import requests\n",
    "from bs4 import BeautifulSoup\n",
    "ep_url = 'http://comic.naver.com/webtoon/detail.nhn?titleId=20853&no=1093&weekday=tue'\n",
    "html = requests.get(ep_url).text\n",
    "soup = BeautifulSoup(html, 'html.parser')"
   ]
  },
  {
   "cell_type": "code",
   "execution_count": 6,
   "metadata": {
    "collapsed": true
   },
   "outputs": [],
   "source": [
    "for tag in soup.select('.wt_viewer img'):\n",
    "    img_url = tag['src']\n",
    "    img_name = os.path.basename(img_url)\n",
    "    headers = {'Referer': ep_url}\n",
    "    img_data = requests.get(img_url, headers=headers).content\n",
    "    \n",
    "    with open(img_name, 'wb') as f:\n",
    "        f.write(img_data)"
   ]
  },
  {
   "cell_type": "code",
   "execution_count": null,
   "metadata": {
    "collapsed": true
   },
   "outputs": [],
   "source": []
  }
 ],
 "metadata": {
  "kernelspec": {
   "display_name": "Python [conda root]",
   "language": "python",
   "name": "conda-root-py"
  },
  "language_info": {
   "codemirror_mode": {
    "name": "ipython",
    "version": 3
   },
   "file_extension": ".py",
   "mimetype": "text/x-python",
   "name": "python",
   "nbconvert_exporter": "python",
   "pygments_lexer": "ipython3",
   "version": "3.5.3"
  }
 },
 "nbformat": 4,
 "nbformat_minor": 2
}
