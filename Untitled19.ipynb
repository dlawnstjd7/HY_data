{
 "cells": [
  {
   "cell_type": "code",
   "execution_count": 1,
   "metadata": {
    "collapsed": true
   },
   "outputs": [],
   "source": [
    "import numpy as np"
   ]
  },
  {
   "cell_type": "code",
   "execution_count": 22,
   "metadata": {
    "scrolled": false
   },
   "outputs": [],
   "source": [
    "data1 = np.random.randn(5, 3)"
   ]
  },
  {
   "cell_type": "code",
   "execution_count": 23,
   "metadata": {},
   "outputs": [
    {
     "data": {
      "text/plain": [
       "array([[ 1.11778597,  0.46204291, -2.03239136],\n",
       "       [ 1.8299207 ,  0.40557131,  1.48673724],\n",
       "       [-1.27162616,  1.49102586, -1.01883624],\n",
       "       [ 0.22785505,  1.10187236, -0.38141191],\n",
       "       [-0.07083509, -0.3755815 ,  0.8449749 ]])"
      ]
     },
     "execution_count": 23,
     "metadata": {},
     "output_type": "execute_result"
    }
   ],
   "source": [
    "data1"
   ]
  },
  {
   "cell_type": "code",
   "execution_count": 24,
   "metadata": {
    "collapsed": true
   },
   "outputs": [],
   "source": [
    "data2 = np.random.randn(5, 3)"
   ]
  },
  {
   "cell_type": "code",
   "execution_count": 28,
   "metadata": {},
   "outputs": [
    {
     "data": {
      "text/plain": [
       "array([[-0.50236687, -1.36326786, -1.63691428],\n",
       "       [-0.31505286, -1.20084506,  0.76855334],\n",
       "       [-0.04125118,  0.10458726,  0.25714887],\n",
       "       [ 0.03226534, -0.72215963,  0.45792294],\n",
       "       [ 0.07214039, -0.32664794, -3.2023766 ]])"
      ]
     },
     "execution_count": 28,
     "metadata": {},
     "output_type": "execute_result"
    }
   ],
   "source": [
    "data2"
   ]
  },
  {
   "cell_type": "code",
   "execution_count": 31,
   "metadata": {},
   "outputs": [
    {
     "data": {
      "text/plain": [
       "array([[  6.15419103e-01,  -9.01224950e-01,  -3.66930564e+00],\n",
       "       [  1.51486785e+00,  -7.95273752e-01,   2.25529059e+00],\n",
       "       [ -1.31287734e+00,   1.59561312e+00,  -7.61687369e-01],\n",
       "       [  2.60120388e-01,   3.79712732e-01,   7.65110331e-02],\n",
       "       [  1.30530133e-03,  -7.02229433e-01,  -2.35740170e+00]])"
      ]
     },
     "execution_count": 31,
     "metadata": {},
     "output_type": "execute_result"
    }
   ],
   "source": [
    "data1 + data2"
   ]
  },
  {
   "cell_type": "code",
   "execution_count": 29,
   "metadata": {},
   "outputs": [
    {
     "data": {
      "text/plain": [
       "array([[ 1.24944548,  0.21348365,  4.13061464],\n",
       "       [ 3.34860977,  0.16448809,  2.21038763],\n",
       "       [ 1.61703309,  2.22315811,  1.03802729],\n",
       "       [ 0.05191792,  1.2141227 ,  0.14547505],\n",
       "       [ 0.00501761,  0.14106146,  0.71398257]])"
      ]
     },
     "execution_count": 29,
     "metadata": {},
     "output_type": "execute_result"
    }
   ],
   "source": [
    "data1 * data1"
   ]
  },
  {
   "cell_type": "code",
   "execution_count": 30,
   "metadata": {},
   "outputs": [
    {
     "data": {
      "text/plain": [
       "array([[-0.56153864, -0.62988825,  3.32685043],\n",
       "       [-0.57652174, -0.48702831,  1.14263688],\n",
       "       [ 0.05245608,  0.1559423 , -0.26199259],\n",
       "       [ 0.00735182, -0.79572774, -0.17465727],\n",
       "       [-0.00511007,  0.12268292, -2.70592783]])"
      ]
     },
     "execution_count": 30,
     "metadata": {},
     "output_type": "execute_result"
    }
   ],
   "source": [
    "data1 * data2"
   ]
  },
  {
   "cell_type": "code",
   "execution_count": null,
   "metadata": {
    "collapsed": true
   },
   "outputs": [],
   "source": []
  }
 ],
 "metadata": {
  "kernelspec": {
   "display_name": "Python [conda root]",
   "language": "python",
   "name": "conda-root-py"
  },
  "language_info": {
   "codemirror_mode": {
    "name": "ipython",
    "version": 3
   },
   "file_extension": ".py",
   "mimetype": "text/x-python",
   "name": "python",
   "nbconvert_exporter": "python",
   "pygments_lexer": "ipython3",
   "version": "3.5.3"
  }
 },
 "nbformat": 4,
 "nbformat_minor": 2
}
