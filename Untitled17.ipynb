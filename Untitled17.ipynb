{
 "cells": [
  {
   "cell_type": "code",
   "execution_count": 1,
   "metadata": {
    "collapsed": true
   },
   "outputs": [],
   "source": [
    "import numpy as np"
   ]
  },
  {
   "cell_type": "code",
   "execution_count": 2,
   "metadata": {
    "collapsed": true
   },
   "outputs": [],
   "source": [
    "names = np.array([1, 0, 0, 0, 0, 1, 0])"
   ]
  },
  {
   "cell_type": "code",
   "execution_count": 3,
   "metadata": {},
   "outputs": [
    {
     "data": {
      "text/plain": [
       "array([1, 0, 0, 0, 0, 1, 0])"
      ]
     },
     "execution_count": 3,
     "metadata": {},
     "output_type": "execute_result"
    }
   ],
   "source": [
    "names"
   ]
  },
  {
   "cell_type": "code",
   "execution_count": 4,
   "metadata": {
    "collapsed": true
   },
   "outputs": [],
   "source": [
    "data = np.random.randn(7, 4)"
   ]
  },
  {
   "cell_type": "code",
   "execution_count": 5,
   "metadata": {},
   "outputs": [
    {
     "data": {
      "text/plain": [
       "array([[-0.66563481,  0.20550945,  0.60117605,  1.97022044],\n",
       "       [-0.8775344 , -0.72093382, -0.01577396,  1.1167423 ],\n",
       "       [-1.32035672, -0.74051898, -0.43228821,  1.40445877],\n",
       "       [ 1.85559862,  0.33090554,  0.52729181,  1.23558328],\n",
       "       [ 0.79338649, -0.84271028, -0.31921947,  1.56088805],\n",
       "       [ 0.30577508,  1.59668015,  0.13450909,  0.02662122],\n",
       "       [-0.55529084, -0.17175315,  0.14282448,  0.63685512]])"
      ]
     },
     "execution_count": 5,
     "metadata": {},
     "output_type": "execute_result"
    }
   ],
   "source": [
    "data"
   ]
  },
  {
   "cell_type": "code",
   "execution_count": 6,
   "metadata": {},
   "outputs": [
    {
     "data": {
      "text/plain": [
       "array([[-0.8775344 , -0.72093382, -0.01577396,  1.1167423 ],\n",
       "       [-0.66563481,  0.20550945,  0.60117605,  1.97022044],\n",
       "       [-0.66563481,  0.20550945,  0.60117605,  1.97022044],\n",
       "       [-0.66563481,  0.20550945,  0.60117605,  1.97022044],\n",
       "       [-0.66563481,  0.20550945,  0.60117605,  1.97022044],\n",
       "       [-0.8775344 , -0.72093382, -0.01577396,  1.1167423 ],\n",
       "       [-0.66563481,  0.20550945,  0.60117605,  1.97022044]])"
      ]
     },
     "execution_count": 6,
     "metadata": {},
     "output_type": "execute_result"
    }
   ],
   "source": [
    "data[names]"
   ]
  },
  {
   "cell_type": "code",
   "execution_count": null,
   "metadata": {
    "collapsed": true
   },
   "outputs": [],
   "source": []
  }
 ],
 "metadata": {
  "kernelspec": {
   "display_name": "Python [conda root]",
   "language": "python",
   "name": "conda-root-py"
  },
  "language_info": {
   "codemirror_mode": {
    "name": "ipython",
    "version": 3
   },
   "file_extension": ".py",
   "mimetype": "text/x-python",
   "name": "python",
   "nbconvert_exporter": "python",
   "pygments_lexer": "ipython3",
   "version": "3.5.3"
  }
 },
 "nbformat": 4,
 "nbformat_minor": 2
}
