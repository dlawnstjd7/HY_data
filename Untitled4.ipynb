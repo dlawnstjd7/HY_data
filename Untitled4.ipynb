{
 "cells": [
  {
   "cell_type": "markdown",
   "metadata": {},
   "source": [
    "## 웹툰으로 커스텀헤더 지정"
   ]
  },
  {
   "cell_type": "code",
   "execution_count": 6,
   "metadata": {
    "collapsed": true
   },
   "outputs": [],
   "source": [
    "import os\n",
    "import requests"
   ]
  },
  {
   "cell_type": "code",
   "execution_count": 19,
   "metadata": {
    "collapsed": true
   },
   "outputs": [],
   "source": [
    "image_urls = ['http://imgstock.naver.net/chart3/day/KOSPI.png']"
   ]
  },
  {
   "cell_type": "code",
   "execution_count": 20,
   "metadata": {},
   "outputs": [
    {
     "name": "stdout",
     "output_type": "stream",
     "text": [
      "writing to KOSPI.png (6143 bytes)\n"
     ]
    }
   ],
   "source": [
    "for image_url in image_urls:\n",
    "    headers = {'Referer': 'http://finance.naver.com/sise/sise_index.nhn?code=KOSPI',}\n",
    "    response = requests.get(image_url, headers=headers)\n",
    "    image_data = response.content\n",
    "    filename = os.path.basename(image_url)\n",
    "    with open(filename, 'wb') as f:\n",
    "        print('writing to {} ({} bytes)'.format(filename, len(image_data)))\n",
    "        f.write(image_data)"
   ]
  },
  {
   "cell_type": "code",
   "execution_count": null,
   "metadata": {
    "collapsed": true
   },
   "outputs": [],
   "source": []
  }
 ],
 "metadata": {
  "kernelspec": {
   "display_name": "Python [conda root]",
   "language": "python",
   "name": "conda-root-py"
  },
  "language_info": {
   "codemirror_mode": {
    "name": "ipython",
    "version": 3
   },
   "file_extension": ".py",
   "mimetype": "text/x-python",
   "name": "python",
   "nbconvert_exporter": "python",
   "pygments_lexer": "ipython3",
   "version": "3.5.3"
  }
 },
 "nbformat": 4,
 "nbformat_minor": 2
}
