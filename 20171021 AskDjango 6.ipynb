{
 "cells": [
  {
   "cell_type": "markdown",
   "metadata": {},
   "source": [
    "## 에스크디장고 6번째 강의 도장깨기"
   ]
  },
  {
   "cell_type": "markdown",
   "metadata": {},
   "source": [
    "## lv1 단순 HTML 크롤링"
   ]
  },
  {
   "cell_type": "code",
   "execution_count": 21,
   "metadata": {
    "collapsed": true
   },
   "outputs": [],
   "source": [
    "import requests\n",
    "from bs4 import BeautifulSoup\n",
    "import pandas as pd\n",
    "\n",
    "lv_url = 'https://askdjango.github.io/lv1/'\n",
    "html = requests.get(lv_url).text\n",
    "soup = BeautifulSoup(html, 'html.parser')\n",
    "text_1 = []\n",
    "URL_1 =[]\n",
    "for tag in soup.select('course.list, .course a'):\n",
    "    text_1.append(tag.text)\n",
    "    URL_1.append(tag['href'])"
   ]
  },
  {
   "cell_type": "code",
   "execution_count": 36,
   "metadata": {
    "collapsed": true
   },
   "outputs": [],
   "source": [
    "data = []\n",
    "for a in range(1,17):\n",
    "    data.append([])"
   ]
  },
  {
   "cell_type": "code",
   "execution_count": 37,
   "metadata": {},
   "outputs": [],
   "source": [
    "for b in range(1,17):\n",
    "    data[b-1].append(text_1[b-1])\n",
    "    data[b-1].append(URL_1[b-1])"
   ]
  },
  {
   "cell_type": "code",
   "execution_count": 38,
   "metadata": {},
   "outputs": [
    {
     "data": {
      "text/plain": [
       "[['개발환경 구축하기', 'https://nomade.kr/vod/setup/'],\n",
       " ['파이썬 차근차근 시작하기', 'https://nomade.kr/vod/python/'],\n",
       " ['크롤링 차근차근 시작하기', 'https://nomade.kr/vod/crawling/'],\n",
       " ['파이썬으로 업무 자동화', 'https://nomade.kr/vod/automation/'],\n",
       " ['장고 - 기본편', 'https://nomade.kr/vod/django/'],\n",
       " ['장고걸스 튜토리얼', 'https://nomade.kr/vod/djangogirls/'],\n",
       " ['장고 - Form/ModelForm 잘 알고 쓰기', 'https://nomade.kr/vod/form/'],\n",
       " ['장고 - 클래스 기반 뷰. 잘 알고 쓰기', 'https://nomade.kr/vod/cbv/'],\n",
       " ['장고 - 결제 시스템 연동', 'https://nomade.kr/vod/payment/'],\n",
       " ['장고 - 웹 프론트엔드 시작편', 'https://nomade.kr/vod/frontend/'],\n",
       " ['장고 - 다양한 위젯 만들기', 'https://nomade.kr/vod/widgets/'],\n",
       " ['장고 - API 서버 만들기 및 초간단 안드로이드 앱 만들기', 'https://nomade.kr/vod/apiserver/'],\n",
       " ['장고 - 하이브리드 앱 만들기', 'https://nomade.kr/vod/hybrid/'],\n",
       " ['장고 - 서비스 배포하기', 'https://nomade.kr/vod/deploy/'],\n",
       " ['장고 - 실전편 (Feat. 배달의 민족 St. 만들기)', 'https://nomade.kr/vod/django-baemin/'],\n",
       " ['장고 - 실전편 (Feat. 인스타그램 St. 만들기)', 'https://nomade.kr/vod/django-instagram/']]"
      ]
     },
     "execution_count": 38,
     "metadata": {},
     "output_type": "execute_result"
    }
   ],
   "source": [
    "data"
   ]
  },
  {
   "cell_type": "code",
   "execution_count": 40,
   "metadata": {
    "collapsed": true
   },
   "outputs": [],
   "source": [
    "df = pd.DataFrame(data)"
   ]
  },
  {
   "cell_type": "code",
   "execution_count": 42,
   "metadata": {},
   "outputs": [],
   "source": [
    "df.to_csv('C:\\\\Users\\\\m\\\\Desktop\\\\jupyter\\\\ASKDJANGO.csv')"
   ]
  },
  {
   "cell_type": "code",
   "execution_count": null,
   "metadata": {
    "collapsed": true
   },
   "outputs": [],
   "source": []
  }
 ],
 "metadata": {
  "kernelspec": {
   "display_name": "Python [conda root]",
   "language": "python",
   "name": "conda-root-py"
  },
  "language_info": {
   "codemirror_mode": {
    "name": "ipython",
    "version": 3
   },
   "file_extension": ".py",
   "mimetype": "text/x-python",
   "name": "python",
   "nbconvert_exporter": "python",
   "pygments_lexer": "ipython3",
   "version": "3.5.3"
  }
 },
 "nbformat": 4,
 "nbformat_minor": 2
}
